{
 "cells": [
  {
   "cell_type": "code",
   "execution_count": 38,
   "metadata": {},
   "outputs": [
    {
     "data": {
      "text/plain": [
       "15918"
      ]
     },
     "execution_count": 38,
     "metadata": {},
     "output_type": "execute_result"
    }
   ],
   "source": [
    "import numpy as np\n",
    "import matplotlib.pyplot as plt\n",
    "from wordle.wordle import get_data, W_LEN\n",
    "\n",
    "data = get_data()\n",
    "len(data)"
   ]
  },
  {
   "cell_type": "code",
   "execution_count": 52,
   "metadata": {},
   "outputs": [],
   "source": [
    "alphabet = sorted(list(set(\"\".join(data))))\n",
    "vocab_size = len(alphabet)\n",
    "\n",
    "stoi = {l: i for i, l in enumerate(alphabet)}\n",
    "itos = {i: l for i, l in enumerate(alphabet)}\n",
    "\n",
    "encode = lambda w: [stoi[l] for l in w]  # string -> list of ints\n",
    "decode = lambda w: \"\".join([itos[i] for i in w])  # list of ints -> string"
   ]
  },
  {
   "cell_type": "code",
   "execution_count": 150,
   "metadata": {},
   "outputs": [
    {
     "name": "stdout",
     "output_type": "stream",
     "text": [
      "18\n",
      "9\n",
      "5\n"
     ]
    },
    {
     "name": "stderr",
     "output_type": "stream",
     "text": [
      "/tmp/ipykernel_1207/504823998.py:27: RuntimeWarning: invalid value encountered in divide\n",
      "  probs = counter / np.sum(counter, axis=1, keepdims=True)\n"
     ]
    },
    {
     "data": {
      "text/plain": [
       "('r', 'i', 'e')"
      ]
     },
     "execution_count": 150,
     "metadata": {},
     "output_type": "execute_result"
    },
    {
     "data": {
      "image/png": "[encoded data removed]",
      "text/plain": [
       "<Figure size 480x480 with 2 Axes>"
      ]
     },
     "metadata": {},
     "output_type": "display_data"
    }
   ],
   "source": [
    "class DataStats:\n",
    "    def __init__(self, dataset, max_wlen):\n",
    "        self.dataset = dataset\n",
    "        self.max_wlen = max_wlen\n",
    "\n",
    "        self.alphabet = [\"<start>\", *sorted(list(set(\"\".join(self.dataset)))), \"<end>\"]\n",
    "        self.vocab_size = len(self.alphabet)\n",
    "\n",
    "        stoi = {l: i for i, l in enumerate(self.alphabet)}\n",
    "        itos = {i: l for i, l in enumerate(self.alphabet)}\n",
    "\n",
    "        self.encode = lambda w: [stoi[\"<start>\"], *[stoi[l] for l in w], stoi[\"<end>\"]]  # string -> list of ints\n",
    "        self.decode = lambda w: \"\".join([itos[i] for i in w])  # list of ints -> string\n",
    "\n",
    "        self.prob_table = self.build_prob_table()\n",
    "\n",
    "    def build_prob_table(self):\n",
    "        # TODO: add start + end to counter\n",
    "        counter = np.zeros([self.vocab_size, self.vocab_size], dtype=np.float32)\n",
    "\n",
    "        # worked => counter[word[i][word[i+1]]++\n",
    "        for w in self.dataset:\n",
    "            _w = self.encode(w)\n",
    "            for i, _ in enumerate(_w[:-1]):\n",
    "                counter[_w[i], _w[i + 1]] += 1\n",
    "\n",
    "        probs = counter / np.sum(counter, axis=1, keepdims=True)\n",
    "\n",
    "        t = plt.matshow(probs)\n",
    "        plt.colorbar(t)\n",
    "        return probs\n",
    "\n",
    "    def sample(self, w, top_k=4):\n",
    "        # sample based on last letter\n",
    "        l = self.encode(w)[-2]  # get the \"last\" char [real last char is <end>]\n",
    "        _probs = self.prob_table[self.encode(w)[-2], :-1]  # get probs next letters (skip \"<end>\")\n",
    "        idx = np.argpartition(-_probs, top_k)[:top_k]  # [top_k, 1] pick top_k idx\n",
    "        probs = np.take(_probs, idx)  # [top_k, 1]\n",
    "\n",
    "        s_idx = np.random.multinomial(1, probs)  # [top_k, 1]\n",
    "        idx = idx * s_idx\n",
    "        candidate = idx[idx != 0][0]\n",
    "        print(candidate)\n",
    "\n",
    "        return self.decode([candidate])\n",
    "\n",
    "\n",
    "d = DataStats(data, W_LEN)\n",
    "d.sample(\"a\"), d.sample(\"b\"), d.sample(\"adap\")"
   ]
  },
  {
   "cell_type": "code",
   "execution_count": null,
   "metadata": {},
   "outputs": [],
   "source": []
  },
  {
   "cell_type": "code",
   "execution_count": null,
   "metadata": {},
   "outputs": [],
   "source": []
  },
  {
   "cell_type": "code",
   "execution_count": null,
   "metadata": {},
   "outputs": [],
   "source": []
  }
 ],
 "metadata": {
  "kernelspec": {
   "display_name": "Python 3",
   "language": "python",
   "name": "python3"
  },
  "language_info": {
   "codemirror_mode": {
    "name": "ipython",
    "version": 3
   },
   "file_extension": ".py",
   "mimetype": "text/x-python",
   "name": "python",
   "nbconvert_exporter": "python",
   "pygments_lexer": "ipython3",
   "version": "3.10.14"
  }
 },
 "nbformat": 4,
 "nbformat_minor": 2
}
